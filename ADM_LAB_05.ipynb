{
  "nbformat": 4,
  "nbformat_minor": 0,
  "metadata": {
    "colab": {
      "provenance": [],
      "authorship_tag": "ABX9TyNLOpa93NZkPoRNRwPEHYol",
      "include_colab_link": true
    },
    "kernelspec": {
      "name": "python3",
      "display_name": "Python 3"
    },
    "language_info": {
      "name": "python"
    }
  },
  "cells": [
    {
      "cell_type": "markdown",
      "metadata": {
        "id": "view-in-github",
        "colab_type": "text"
      },
      "source": [
        "<a href=\"https://colab.research.google.com/github/Kasurirohith/ADM-LAB/blob/main/ADM_LAB_05.ipynb\" target=\"_parent\"><img src=\"https://colab.research.google.com/assets/colab-badge.svg\" alt=\"Open In Colab\"/></a>"
      ]
    },
    {
      "cell_type": "code",
      "execution_count": null,
      "metadata": {
        "id": "kBDUmx5pieW6"
      },
      "outputs": [],
      "source": [
        "import pandas as pd\n"
      ]
    },
    {
      "cell_type": "code",
      "source": [
        "df = pd.read_csv('/content/titanic.csv')\n"
      ],
      "metadata": {
        "id": "OzHSXcaOnMWK"
      },
      "execution_count": null,
      "outputs": []
    },
    {
      "cell_type": "code",
      "source": [
        "numerical_columns = [\"Age\", \"SibSp\", \"Parch\", \"Fare\", \"Pclass\", \"Survived\"]"
      ],
      "metadata": {
        "id": "dtSbYgvWnTwM"
      },
      "execution_count": null,
      "outputs": []
    },
    {
      "cell_type": "code",
      "source": [
        "mean_values = df[numerical_columns].mean()\n",
        "median_values = df[numerical_columns].median()\n",
        "mode_values = df[numerical_columns].mode().iloc[0]\n"
      ],
      "metadata": {
        "id": "P_QRwRZznWOF"
      },
      "execution_count": null,
      "outputs": []
    },
    {
      "cell_type": "code",
      "source": [
        "print(\"Mean Values:\")\n",
        "print(mean_values.to_frame().T)\n",
        "print(\"\\n\")\n"
      ],
      "metadata": {
        "colab": {
          "base_uri": "https://localhost:8080/"
        },
        "id": "LeBU1IyonYc7",
        "outputId": "ecca9055-441f-4c7b-8f2a-a855aea734a6"
      },
      "execution_count": null,
      "outputs": [
        {
          "output_type": "stream",
          "name": "stdout",
          "text": [
            "Mean Values:\n",
            "         Age     SibSp     Parch       Fare    Pclass  Survived\n",
            "0  29.699118  0.523008  0.381594  32.204208  2.308642  0.383838\n",
            "\n",
            "\n"
          ]
        }
      ]
    },
    {
      "cell_type": "code",
      "source": [
        "print(\"Median Values:\")\n",
        "print(median_values.to_frame().T)\n",
        "print(\"\\n\")\n"
      ],
      "metadata": {
        "colab": {
          "base_uri": "https://localhost:8080/"
        },
        "id": "xQBXt9MznbTs",
        "outputId": "77fa7c29-323d-4158-9078-a6944f8d134e"
      },
      "execution_count": null,
      "outputs": [
        {
          "output_type": "stream",
          "name": "stdout",
          "text": [
            "Median Values:\n",
            "    Age  SibSp  Parch     Fare  Pclass  Survived\n",
            "0  28.0    0.0    0.0  14.4542     3.0       0.0\n",
            "\n",
            "\n"
          ]
        }
      ]
    },
    {
      "cell_type": "code",
      "source": [
        "print(\"Mode Values:\")\n",
        "print(mode_values.to_frame().T)"
      ],
      "metadata": {
        "colab": {
          "base_uri": "https://localhost:8080/"
        },
        "id": "GmCTlKUdneh8",
        "outputId": "f107d82c-9dbb-4398-ed0b-314973312d8e"
      },
      "execution_count": null,
      "outputs": [
        {
          "output_type": "stream",
          "name": "stdout",
          "text": [
            "Mode Values:\n",
            "    Age  SibSp  Parch  Fare  Pclass  Survived\n",
            "0  24.0    0.0    0.0  8.05     3.0       0.0\n"
          ]
        }
      ]
    }
  ]
}