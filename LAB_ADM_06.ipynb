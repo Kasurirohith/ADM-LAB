{
  "nbformat": 4,
  "nbformat_minor": 0,
  "metadata": {
    "colab": {
      "provenance": [],
      "authorship_tag": "ABX9TyO6kHUDLGeDz8BTAGd9fnRs",
      "include_colab_link": true
    },
    "kernelspec": {
      "name": "python3",
      "display_name": "Python 3"
    },
    "language_info": {
      "name": "python"
    }
  },
  "cells": [
    {
      "cell_type": "markdown",
      "metadata": {
        "id": "view-in-github",
        "colab_type": "text"
      },
      "source": [
        "<a href=\"https://colab.research.google.com/github/Kasurirohith/ADM-LAB/blob/main/LAB_ADM_06.ipynb\" target=\"_parent\"><img src=\"https://colab.research.google.com/assets/colab-badge.svg\" alt=\"Open In Colab\"/></a>"
      ]
    },
    {
      "cell_type": "code",
      "execution_count": 1,
      "metadata": {
        "id": "NVkuvDPZu6oo"
      },
      "outputs": [],
      "source": [
        "import pandas as pd\n",
        "from sklearn.preprocessing import LabelEncoder\n",
        "df = pd.read_csv('/content/university_student.csv')"
      ]
    },
    {
      "cell_type": "code",
      "source": [
        "print(\"Original Dataset:\")\n",
        "print(df.head())"
      ],
      "metadata": {
        "colab": {
          "base_uri": "https://localhost:8080/"
        },
        "id": "h3G5XSX3xJ8S",
        "outputId": "1daf012c-4818-4e1c-cd78-232fbc2b1bcd"
      },
      "execution_count": 2,
      "outputs": [
        {
          "output_type": "stream",
          "name": "stdout",
          "text": [
            "Original Dataset:\n",
            "   Student ID  Gender Date of Birth  Study Time Grade School Type  Absences  \\\n",
            "0           1    Male    1996-12-03          11     D      Public         2   \n",
            "1           2  Female    2001-09-15           5     D     Private         0   \n",
            "2           3    Male    2002-08-09           8     A     Private         2   \n",
            "3           4    Male    1999-04-29           8     A     Private         3   \n",
            "4           5    Male    1995-06-11           9     B     Private         1   \n",
            "\n",
            "   Math Score  Reading Score  Writing Score  \n",
            "0          72             91             69  \n",
            "1          66             58             62  \n",
            "2          75             99             77  \n",
            "3          57             76             97  \n",
            "4          78             51             78  \n"
          ]
        }
      ]
    },
    {
      "cell_type": "code",
      "source": [
        "df.fillna(df.mean(numeric_only=True), inplace=True)"
      ],
      "metadata": {
        "id": "EXNbq4DnxMnp"
      },
      "execution_count": 3,
      "outputs": []
    },
    {
      "cell_type": "code",
      "source": [
        "df = pd.get_dummies(df, columns=['Gender', 'School Type'], drop_first=True)"
      ],
      "metadata": {
        "id": "h6RJG9QaxQZu"
      },
      "execution_count": 4,
      "outputs": []
    },
    {
      "cell_type": "code",
      "source": [
        "label_encoder = LabelEncoder()\n",
        "df['Grade'] = label_encoder.fit_transform(df['Grade'])"
      ],
      "metadata": {
        "id": "RXz2h0VdxV5G"
      },
      "execution_count": 5,
      "outputs": []
    },
    {
      "cell_type": "code",
      "source": [
        "df['Year of Birth'] = pd.to_datetime(df['Date of Birth']).dt.year\n",
        "\n",
        "df['Age'] = 2025 - df['Year of Birth']\n",
        "df['Year of Birth'] = pd.to_datetime(df['Date of Birth']).dt.year\n",
        "\n",
        "df['Year of Birth'] = pd.to_datetime(df['Date of Birth']).dt.year\n",
        "\n",
        "df['Age'] = 2025 - df['Year of Birth']\n",
        "df['Year of Birth'] = pd.to_datetime(df['Date of Birth']).dt.year\n",
        "\n",
        "df['Age'] = 2025 - df['Year of Birth']\n",
        "\n",
        "math_score_col = 'Math Score'"
      ],
      "metadata": {
        "id": "V6ZLmulbxcrm"
      },
      "execution_count": 7,
      "outputs": []
    },
    {
      "cell_type": "code",
      "source": [
        "df['Total Score'] = df['Math Score'] + df['Reading Score'] + df['Writing Score']\n",
        "grouped_df = df.groupby('Grade')['Total Score'].mean().reset_index()"
      ],
      "metadata": {
        "id": "h3GVrh_ExjU_"
      },
      "execution_count": 8,
      "outputs": []
    },
    {
      "cell_type": "code",
      "source": [
        "print(\"\\nProcessed Dataset:\")\n",
        "print(df.head())\n",
        "print(\"\\nGrouped and Aggregated Data:\")\n",
        "print(grouped_df)"
      ],
      "metadata": {
        "colab": {
          "base_uri": "https://localhost:8080/"
        },
        "id": "-RMujzl5xmrG",
        "outputId": "8fe91717-b6b9-491c-99d2-07998f72d15a"
      },
      "execution_count": 10,
      "outputs": [
        {
          "output_type": "stream",
          "name": "stdout",
          "text": [
            "\n",
            "Processed Dataset:\n",
            "   Student ID Date of Birth  Study Time  Grade  Absences  Math Score  \\\n",
            "0           1    1996-12-03          11      3         2          72   \n",
            "1           2    2001-09-15           5      3         0          66   \n",
            "2           3    2002-08-09           8      0         2          75   \n",
            "3           4    1999-04-29           8      0         3          57   \n",
            "4           5    1995-06-11           9      1         1          78   \n",
            "\n",
            "   Reading Score  Writing Score  Gender_Male  School Type_Public  \\\n",
            "0             91             69         True                True   \n",
            "1             58             62        False               False   \n",
            "2             99             77         True               False   \n",
            "3             76             97         True               False   \n",
            "4             51             78         True               False   \n",
            "\n",
            "   Year of Birth  Age  Total Score  \n",
            "0           1996   29          232  \n",
            "1           2001   24          186  \n",
            "2           2002   23          251  \n",
            "3           1999   26          230  \n",
            "4           1995   30          207  \n",
            "\n",
            "Grouped and Aggregated Data:\n",
            "   Grade  Total Score\n",
            "0      0   232.535714\n",
            "1      1   215.500000\n",
            "2      2   230.428571\n",
            "3      3   227.304348\n",
            "4      4   210.062500\n"
          ]
        }
      ]
    }
  ]
}